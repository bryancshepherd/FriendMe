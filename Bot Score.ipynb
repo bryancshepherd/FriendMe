{
 "cells": [
  {
   "cell_type": "code",
   "execution_count": 1,
   "metadata": {
    "collapsed": false
   },
   "outputs": [],
   "source": [
    "# Purpose: Create a metric that is the likelihood of a user being a bot\n",
    "\n",
    "# TODO: Finish the entropy calculations\n",
    "# TODO: Determine weighting for items in the bot score calculations"
   ]
  },
  {
   "cell_type": "code",
   "execution_count": 2,
   "metadata": {
    "collapsed": false
   },
   "outputs": [],
   "source": [
    "import sqlite3\n",
    "\n",
    "# twitter package manual here: https://pypi.python.org/pypi/python-twitter/1.3.1, https://code.google.com/p/python-twitter/\n",
    "import twitter \n",
    "import itertools\n",
    "from datetime import date, datetime, timedelta\n",
    "import time\n",
    "import random\n",
    "import sys\n",
    "import os.path\n",
    "\n",
    "# Configuration options\n",
    "debug = False\n",
    "\n",
    "# Set to False for burnin/testing phase. Actions output will be created but actions will not be executed (Still needs to be implemented)\n",
    "production = True\n",
    "\n",
    "# Client details\n",
    "# A more secure way to handle this\n",
    "# is to put the information in an encrypted text file \n",
    "# that gets pulled in.\n",
    "client_twitter_handle = 'XXXX'\n",
    "\n",
    "client_consumer_key = 'XXXXX'\n",
    "client_consumer_secret = 'XXXXXX'\n",
    "client_access_token_key = 'XXXXXX'\n",
    "client_access_token_secret = 'XXXXXX'"
   ]
  },
  {
   "cell_type": "code",
   "execution_count": 3,
   "metadata": {
    "collapsed": false
   },
   "outputs": [],
   "source": [
    "api = twitter.Api(consumer_key=client_consumer_key,\n",
    "                      consumer_secret=client_consumer_secret,\n",
    "                      access_token_key=client_access_token_key,\n",
    "                      access_token_secret=client_access_token_secret)"
   ]
  },
  {
   "cell_type": "code",
   "execution_count": 23,
   "metadata": {
    "collapsed": false
   },
   "outputs": [],
   "source": [
    "user_of_interest = api.GetUser(screen_name = 'XXXXXX')"
   ]
  },
  {
   "cell_type": "code",
   "execution_count": 24,
   "metadata": {
    "collapsed": false
   },
   "outputs": [],
   "source": [
    "my99ideas = api.GetUser(screen_name = 'my99ideas')"
   ]
  },
  {
   "cell_type": "code",
   "execution_count": 31,
   "metadata": {
    "collapsed": false
   },
   "outputs": [],
   "source": [
    "def calcUserAuthority(user):\n",
    "    try:\n",
    "        auth = user.followers_count/(user.followers_count + user.friends_count + 0.0) # The 0.0 converts the whole operation to float\n",
    "        return auth\n",
    "    except:\n",
    "        print 'There was a problem calculating the authority metric.'"
   ]
  },
  {
   "cell_type": "code",
   "execution_count": 35,
   "metadata": {
    "collapsed": false
   },
   "outputs": [],
   "source": [
    "def getUserTimeline(user):\n",
    "    try:\n",
    "        timeline = api.GetUserTimeline(screen_name = user.screen_name, count = 200)\n",
    "        return timeline\n",
    "    except:\n",
    "        print 'There was a problem fetching the timeline.'"
   ]
  },
  {
   "cell_type": "code",
   "execution_count": null,
   "metadata": {
    "collapsed": false
   },
   "outputs": [],
   "source": [
    "### Not complete\n",
    "### See R code for entropy \n",
    "### definition and details\n",
    "# def calcTimelineEntropy(user_timeline)\n",
    "#     try:\n",
    "#         ent = "
   ]
  },
  {
   "cell_type": "code",
   "execution_count": null,
   "metadata": {
    "collapsed": false
   },
   "outputs": [],
   "source": [
    "### Not complete\n",
    "### See R code for entropy \n",
    "### definition and details\n",
    "def botScore(user):\n",
    "    try:\n",
    "        if(user.verified):\n",
    "            bot_score = 0\n",
    "        else:\n",
    "            authority = calcUserAuthority(user)\n",
    "            # entropy =\n",
    "            \n",
    "        return bot_score\n",
    "    except: \n",
    "        print 'There was a problem calculating the bot score.'"
   ]
  },
  {
   "cell_type": "code",
   "execution_count": 27,
   "metadata": {
    "collapsed": false
   },
   "outputs": [
    {
     "data": {
      "text/plain": [
       "0.2622648469199557"
      ]
     },
     "execution_count": 27,
     "metadata": {},
     "output_type": "execute_result"
    }
   ],
   "source": [
    "calcUserAuthority(user_of_interest)"
   ]
  },
  {
   "cell_type": "code",
   "execution_count": 36,
   "metadata": {
    "collapsed": false
   },
   "outputs": [],
   "source": [
    "timeline = getUserTimeline(user_of_interest)"
   ]
  },
  {
   "cell_type": "code",
   "execution_count": 38,
   "metadata": {
    "collapsed": false
   },
   "outputs": [
    {
     "data": {
      "text/plain": [
       "24"
      ]
     },
     "execution_count": 38,
     "metadata": {},
     "output_type": "execute_result"
    }
   ],
   "source": [
    "len(timeline)"
   ]
  },
  {
   "cell_type": "code",
   "execution_count": 45,
   "metadata": {
    "collapsed": false
   },
   "outputs": [
    {
     "data": {
      "text/plain": [
       "['AsDict',\n",
       " 'AsJsonString',\n",
       " 'GetContributors',\n",
       " 'GetCoordinates',\n",
       " 'GetCreatedAt',\n",
       " 'GetCreatedAtInSeconds',\n",
       " 'GetCurrent_user_retweet',\n",
       " 'GetFavoriteCount',\n",
       " 'GetFavorited',\n",
       " 'GetGeo',\n",
       " 'GetId',\n",
       " 'GetIdStr',\n",
       " 'GetInReplyToScreenName',\n",
       " 'GetInReplyToStatusId',\n",
       " 'GetInReplyToUserId',\n",
       " 'GetLang',\n",
       " 'GetLocation',\n",
       " 'GetNow',\n",
       " 'GetPlace',\n",
       " 'GetPossibly_sensitive',\n",
       " 'GetRelativeCreatedAt',\n",
       " 'GetRetweetCount',\n",
       " 'GetRetweeted',\n",
       " 'GetRetweeted_status',\n",
       " 'GetScopes',\n",
       " 'GetSource',\n",
       " 'GetText',\n",
       " 'GetTruncated',\n",
       " 'GetUser',\n",
       " 'GetWithheld_copyright',\n",
       " 'GetWithheld_in_countries',\n",
       " 'GetWithheld_scope',\n",
       " 'NewFromJsonDict',\n",
       " 'SetContributors',\n",
       " 'SetCoordinates',\n",
       " 'SetCreatedAt',\n",
       " 'SetCurrent_user_retweet',\n",
       " 'SetFavoriteCount',\n",
       " 'SetFavorited',\n",
       " 'SetGeo',\n",
       " 'SetId',\n",
       " 'SetIdStr',\n",
       " 'SetInReplyToScreenName',\n",
       " 'SetInReplyToStatusId',\n",
       " 'SetInReplyToUserId',\n",
       " 'SetLocation',\n",
       " 'SetNow',\n",
       " 'SetPlace',\n",
       " 'SetPossibly_sensitive',\n",
       " 'SetRetweetCount',\n",
       " 'SetRetweeted',\n",
       " 'SetRetweeted_status',\n",
       " 'SetScopes',\n",
       " 'SetSource',\n",
       " 'SetText',\n",
       " 'SetTruncated',\n",
       " 'SetUser',\n",
       " 'SetWithheld_copyright',\n",
       " 'SetWithheld_in_countries',\n",
       " 'SetWithheld_scope',\n",
       " '__class__',\n",
       " '__delattr__',\n",
       " '__dict__',\n",
       " '__doc__',\n",
       " '__eq__',\n",
       " '__format__',\n",
       " '__getattribute__',\n",
       " '__hash__',\n",
       " '__init__',\n",
       " '__module__',\n",
       " '__ne__',\n",
       " '__new__',\n",
       " '__reduce__',\n",
       " '__reduce_ex__',\n",
       " '__repr__',\n",
       " '__setattr__',\n",
       " '__sizeof__',\n",
       " '__str__',\n",
       " '__subclasshook__',\n",
       " '__weakref__',\n",
       " '_contributors',\n",
       " '_coordinates',\n",
       " '_created_at',\n",
       " '_current_user_retweet',\n",
       " '_favorite_count',\n",
       " '_favorited',\n",
       " '_geo',\n",
       " '_id',\n",
       " '_id_str',\n",
       " '_in_reply_to_screen_name',\n",
       " '_in_reply_to_status_id',\n",
       " '_in_reply_to_user_id',\n",
       " '_location',\n",
       " '_now',\n",
       " '_place',\n",
       " '_possibly_sensitive',\n",
       " '_retweet_count',\n",
       " '_retweeted',\n",
       " '_retweeted_status',\n",
       " '_scopes',\n",
       " '_source',\n",
       " '_text',\n",
       " '_truncated',\n",
       " '_user',\n",
       " '_withheld_copyright',\n",
       " '_withheld_in_countries',\n",
       " '_withheld_scope',\n",
       " 'contributors',\n",
       " 'coordinates',\n",
       " 'created_at',\n",
       " 'created_at_in_seconds',\n",
       " 'current_user_retweet',\n",
       " 'favorite_count',\n",
       " 'favorited',\n",
       " 'geo',\n",
       " 'hashtags',\n",
       " 'id',\n",
       " 'id_str',\n",
       " 'in_reply_to_screen_name',\n",
       " 'in_reply_to_status_id',\n",
       " 'in_reply_to_user_id',\n",
       " 'lang',\n",
       " 'location',\n",
       " 'media',\n",
       " 'now',\n",
       " 'place',\n",
       " 'possibly_sensitive',\n",
       " 'relative_created_at',\n",
       " 'retweet_count',\n",
       " 'retweeted',\n",
       " 'retweeted_status',\n",
       " 'scopes',\n",
       " 'source',\n",
       " 'text',\n",
       " 'truncated',\n",
       " 'urls',\n",
       " 'user',\n",
       " 'user_mentions',\n",
       " 'withheld_copyright',\n",
       " 'withheld_in_countries',\n",
       " 'withheld_scope']"
      ]
     },
     "execution_count": 45,
     "metadata": {},
     "output_type": "execute_result"
    }
   ],
   "source": [
    "dir(timeline[1].created_at)"
   ]
  }
 ],
 "metadata": {
  "anaconda-cloud": {},
  "kernelspec": {
   "display_name": "Python [default]",
   "language": "python",
   "name": "python3"
  },
  "language_info": {
   "codemirror_mode": {
    "name": "ipython",
    "version": 3
   },
   "file_extension": ".py",
   "mimetype": "text/x-python",
   "name": "python",
   "nbconvert_exporter": "python",
   "pygments_lexer": "ipython3",
   "version": "3.5.2"
  }
 },
 "nbformat": 4,
 "nbformat_minor": 0
}
