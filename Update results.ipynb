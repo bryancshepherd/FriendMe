{
 "cells": [
  {
   "cell_type": "code",
   "execution_count": 1,
   "metadata": {
    "collapsed": false
   },
   "outputs": [],
   "source": [
    "import sqlite3\n",
    "\n",
    "# twitter package manual here: https://pypi.python.org/pypi/python-twitter/1.3.1, https://code.google.com/p/python-twitter/\n",
    "import twitter \n",
    "import itertools\n",
    "from datetime import date, datetime, timedelta\n",
    "import time\n",
    "import random\n",
    "import sys\n",
    "import os.path"
   ]
  },
  {
   "cell_type": "code",
   "execution_count": 2,
   "metadata": {
    "collapsed": false
   },
   "outputs": [],
   "source": [
    "con = sqlite3.connect('UserName/friendme.db')"
   ]
  },
  {
   "cell_type": "code",
   "execution_count": 3,
   "metadata": {
    "collapsed": false
   },
   "outputs": [],
   "source": [
    "twitter_handle = 'XXXX'\n",
    "api = twitter.Api(consumer_key='XXXX',\n",
    "                      consumer_secret='XXXXX',\n",
    "                      access_token_key='XXXXX',\n",
    "                      access_token_secret='XXXXXX')"
   ]
  },
  {
   "cell_type": "code",
   "execution_count": 4,
   "metadata": {
    "collapsed": false
   },
   "outputs": [],
   "source": [
    "def saveCurrentFollowers(current_followers):\n",
    "    try:\n",
    "        current_followers_sql = [(\",\".join(current_followers)), (date.today().strftime('%Y-%m-%d'))]\n",
    "        con.execute('INSERT INTO my_daily_followers VALUES (?,?)', current_followers_sql)\n",
    "        con.commit()\n",
    "        \n",
    "        print \"Writing today's current followers to the database was successful.\"\n",
    "    \n",
    "    except:\n",
    "        print \"Writing today's current followers to the database was NOT successful.\""
   ]
  },
  {
   "cell_type": "code",
   "execution_count": 5,
   "metadata": {
    "collapsed": false
   },
   "outputs": [],
   "source": [
    "cur_fol = []\n",
    "my_followers = api.GetFollowers(count=200)\n",
    "for fol in my_followers:\n",
    "    cur_fol.append(fol.screen_name)"
   ]
  },
  {
   "cell_type": "code",
   "execution_count": 6,
   "metadata": {
    "collapsed": false
   },
   "outputs": [
    {
     "name": "stdout",
     "output_type": "stream",
     "text": [
      "Writing today's current followers to the database was successful.\n"
     ]
    }
   ],
   "source": [
    "saveCurrentFollowers(cur_fol)"
   ]
  },
  {
   "cell_type": "code",
   "execution_count": 6,
   "metadata": {
    "collapsed": false
   },
   "outputs": [],
   "source": [
    "con.execute('ALTER TABLE incentive_actions ADD COLUMN production')"
   ]
  }
 ],
 "metadata": {
  "anaconda-cloud": {},
  "kernelspec": {
   "display_name": "Python [default]",
   "language": "python",
   "name": "python3"
  },
  "language_info": {
   "codemirror_mode": {
    "name": "ipython",
    "version": 3
   },
   "file_extension": ".py",
   "mimetype": "text/x-python",
   "name": "python",
   "nbconvert_exporter": "python",
   "pygments_lexer": "ipython3",
   "version": "3.5.2"
  }
 },
 "nbformat": 4,
 "nbformat_minor": 0
}
