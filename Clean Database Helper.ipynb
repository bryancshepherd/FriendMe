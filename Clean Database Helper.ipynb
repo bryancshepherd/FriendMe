{
 "cells": [
  {
   "cell_type": "code",
   "execution_count": 1,
   "metadata": {
    "collapsed": false
   },
   "outputs": [],
   "source": [
    "import sqlite3\n",
    "\n",
    "# twitter package manual here: https://pypi.python.org/pypi/python-twitter/1.3.1, https://code.google.com/p/python-twitter/\n",
    "import twitter \n",
    "import itertools\n",
    "from datetime import date, datetime, timedelta\n",
    "import time\n",
    "import random\n",
    "import sys\n",
    "import os.path"
   ]
  },
  {
   "cell_type": "code",
   "execution_count": 2,
   "metadata": {
    "collapsed": false
   },
   "outputs": [],
   "source": [
    "con = sqlite3.connect('UserName/friendme.db')"
   ]
  },
  {
   "cell_type": "code",
   "execution_count": 3,
   "metadata": {
    "collapsed": false
   },
   "outputs": [],
   "source": [
    "con.execute('DELETE FROM my_daily_followers WHERE list_date = \"2014-06-18\"')\n",
    "con.commit()"
   ]
  },
  {
   "cell_type": "code",
   "execution_count": 3,
   "metadata": {
    "collapsed": false
   },
   "outputs": [],
   "source": [
    "con.execute('UPDATE incentive_actions SET action = \"Skipped\" WHERE action = \"skipped\"')\n",
    "con.commit()"
   ]
  },
  {
   "cell_type": "code",
   "execution_count": 3,
   "metadata": {
    "collapsed": false
   },
   "outputs": [],
   "source": [
    "twitter_handle = 'XXXXX'\n",
    "api = twitter.Api(consumer_key='XXXXXX',\n",
    "                      consumer_secret='XXXXXX',\n",
    "                      access_token_key='XXXXXX',\n",
    "                      access_token_secret='XXXXXX')"
   ]
  },
  {
   "cell_type": "code",
   "execution_count": 7,
   "metadata": {
    "collapsed": false
   },
   "outputs": [],
   "source": [
    "def dropTargetedUnfollowers(current_followers, days_since_targeted, purge):\n",
    "    try:\n",
    "        \n",
    "        end_date = date.today() - timedelta(days_since_targeted)\n",
    "        if (purge == True): # Remove all unfollowers targeted prior to a given date. May take a long time for large targeted lists.\n",
    "            # Get previous day's friend list for comparison with today's list\n",
    "            comparison_date_targets = con.execute('SELECT user_name FROM incentive_actions WHERE action_datetime < ?', [end_date.strftime('%Y-%m-%d')])\n",
    "        \n",
    "        else: # Remove all unfollowers targeted on a specific date. Faster, but not as complete as purging unless run every day.\n",
    "            # Get previous day's friend list for comparison with today's list\n",
    "            comparison_date_targets = con.execute('SELECT user_name FROM incentive_actions WHERE action_datetime > ? AND action_datetime < ?', [end_date.strftime('%Y-%m-%d 00:00:00'), end_date.strftime('%Y-%m-%d 23:59:59')])\n",
    " \n",
    "        \n",
    "        comparison_date_list = []\n",
    "        for target in comparison_date_targets:\n",
    "            comparison_date_list.append(target[0])\n",
    "        \n",
    "        cf = set(current_followers)\n",
    "        \n",
    "        comparison_date_set = set(comparison_date_list)\n",
    "    \n",
    "        unfollowers = comparison_date_set.difference(cf)\n",
    "        \n",
    "        print str(len(unfollowers)) + ' are set to be deleted. Their screen_names are:'\n",
    "        \n",
    "        for unfollower in unfollowers:\n",
    "            try:\n",
    "                print unfollower\n",
    "                api.DestroyFriendship(screen_name=unfollower)\n",
    "            except:\n",
    "                continue\n",
    "\n",
    "        \n",
    "    \n",
    "    except:\n",
    "        print 'There was a problem deleting targeted unfollowers.' "
   ]
  },
  {
   "cell_type": "code",
   "execution_count": 4,
   "metadata": {
    "collapsed": false
   },
   "outputs": [],
   "source": [
    "cur_fol = []\n",
    "my_followers = api.GetFollowers(count=200)\n",
    "for fol in my_followers:\n",
    "    cur_fol.append(fol.screen_name)"
   ]
  },
  {
   "cell_type": "code",
   "execution_count": 5,
   "metadata": {
    "collapsed": false
   },
   "outputs": [
    {
     "data": {
      "text/plain": [
       "381"
      ]
     },
     "execution_count": 5,
     "metadata": {},
     "output_type": "execute_result"
    }
   ],
   "source": [
    "len(cur_fol)"
   ]
  },
  {
   "cell_type": "code",
   "execution_count": 10,
   "metadata": {
    "collapsed": false
   },
   "outputs": [
    {
     "name": "stdout",
     "output_type": "stream",
     "text": [
      "600 are set to be deleted. Their screen_names are:\n",
      "andrecole\n",
      "startuptxt\n",
      "amadhavarapu\n",
      "bowerbags\n",
      "GalenGlanza\n",
      "PalmPons\n",
      "KSI_BHenke\n",
      "Brandon2buyasin\n",
      "cyhatolahun\n",
      "womenoncomics\n",
      "bodyimagemvmt\n",
      "jasonlk\n",
      "TarunMhealth\n",
      "colossalblue\n",
      "SethMcCombs\n",
      "StoneyRoads\n",
      "StartupsIreland\n",
      "manuel_c\n",
      "weezybop\n",
      "PrintExpress_\n",
      "Johnsimons616\n",
      "Meena_Thiru\n",
      "ChicagoBlueSky\n",
      "ALL4Disabilty\n",
      "UWMadisonURP\n",
      "m_sherrington\n",
      "TheRichLevy\n",
      "HarmonyKathy\n",
      "benreiss\n",
      "NurrieLestari\n",
      "Davide_LaSpina\n",
      "sionna_watson\n",
      "ahmedsellim\n",
      "neshasr\n",
      "MaxitMedia\n",
      "davidstein65\n",
      "Tarmin101\n",
      "annagidman\n",
      "WokingWorks\n",
      "jahnuk\n",
      "paulosalamat\n",
      "IfYouLeavePhoto\n",
      "mmcowell\n",
      "VirginStartUp\n",
      "Under30CEOden\n",
      "StartupTutors\n",
      "SPN10yrsdoc\n",
      "Dominique_V_F\n",
      "RayYedman\n",
      "Koss_toss\n",
      "myspivey\n",
      "DanKazanas\n",
      "BatterseaPrint\n",
      "hustler243\n",
      "vbrekher\n",
      "NicoVuignier\n",
      "Shaquawn2\n",
      "tepsicmag\n",
      "ThaisVidal_\n",
      "QueenLADYFIRE\n",
      "ka_atie\n",
      "Matt_PageOne\n",
      "tweepio_tech\n",
      "GeekinBranding\n",
      "startuphangar\n",
      "DomainMarathon\n",
      "fccclearwater\n",
      "gycemucediba\n",
      "pr_pig\n",
      "dunmanifestin\n",
      "EntrepreneuBlog\n",
      "ULArchives2\n",
      "juliannefish22\n",
      "teddyB718\n",
      "TanyaKlich\n",
      "GFP_2013\n",
      "RiskContainment\n",
      "E17Designers\n",
      "wiseacre\n",
      "ProNetworkBuild\n",
      "ToyKen\n",
      "georgepearkes\n",
      "smugdavinci\n",
      "VikHodgson\n",
      "mrsigito\n",
      "JoseChatelet\n",
      "ViolaRoberto\n",
      "WasabiVentures\n",
      "sjaillais\n",
      "eccegostudio\n",
      "hanspetermeyer\n",
      "LeanneLabelle\n",
      "Create_Success\n",
      "MaxPromote\n",
      "MuskokaFutures\n",
      "TrueSmallBiz\n",
      "costasbissas\n",
      "TaraFougner\n",
      "Scott_Almes\n",
      "kathrynelise\n",
      "minicooper\n",
      "selenavdp\n",
      "grasso_tom\n",
      "Job_Raleigh\n",
      "rstartups\n",
      "OhioNewsdaily\n",
      "pierre_nel\n",
      "Braintenance\n",
      "EnFuegoInc\n",
      "ModusCreate\n",
      "AIESECLebanon\n",
      "EzZamri\n",
      "benjiwheeler\n",
      "stuartpalley\n",
      "kedwardspsllc\n",
      "bujatt\n",
      "TayMcPartland\n",
      "johnjellinek\n",
      "MarkJohnsonFAIA\n",
      "mathewharkins\n",
      "TheBlackout\n",
      "_ArjunGowda\n",
      "AM_Roussel\n",
      "nw1\n",
      "ejoel\n",
      "MagnificentAfrs\n",
      "tonygapastione\n",
      "SaitotiG\n",
      "WorldTechNewsA\n",
      "TJMProjectsLtd\n",
      "eliotsnutbutter\n",
      "GWIpodcast\n",
      "tunerbabes\n",
      "jameskung\n",
      "subdamusic\n",
      "MoxyNH\n",
      "velocityvictory\n",
      "jwinnecke\n",
      "michaelgraycpa\n",
      "JoeTBuyNow\n",
      "Innovattic\n",
      "dirginstweets\n",
      "DevHellSeries\n",
      "deancousin\n",
      "soulfoodscholar\n",
      "CrowdCharts\n",
      "varunsaxena11\n",
      "continuants\n",
      "peoplefw\n",
      "TimeEternity\n",
      "TechvibesTO\n",
      "BrandonJCarson\n",
      "NormaDavey\n",
      "NYCashAdvance\n",
      "WNYBAC\n",
      "IlhamAbbas\n",
      "diethealthfit\n",
      "steveguidry\n",
      "BHIVEStartUp\n",
      "igobyjoesig\n",
      "Crowdfund_Tina\n",
      "Isaac_kirk\n",
      "Under30CEOno\n",
      "cogentcompany\n",
      "V_Dan_P\n",
      "ExpediezentreV\n",
      "TheJeffErnst\n",
      "DavidAFrankel\n",
      "JayBlueOfficial\n",
      "JasonOkuma\n",
      "Power40under40\n",
      "NeariahDober\n",
      "DATACENTREdotME\n",
      "Rogerh1991\n",
      "ajamyx\n",
      "FrosTMDigital\n",
      "gfreefun\n",
      "TandemNsi\n",
      "Krita_Painting\n",
      "WeAreRodd\n",
      "DarylJames_LWI\n",
      "avonladydanita\n",
      "SyncNorwich\n",
      "BROSIX\n",
      "JoeyKatindig\n",
      "Astradamus_\n",
      "TheFireTonight\n",
      "fifteenpercent2\n",
      "Under30CEOmia\n",
      "carmenaraiza\n",
      "TechvibesOK\n",
      "amorphic\n",
      "drehmke\n",
      "xstefanx42\n",
      "torrentbrewing\n",
      "Fushigifox\n",
      "ajwalsh08\n",
      "CrisMontanyola\n",
      "umerjaffer\n",
      "muskielibrary\n",
      "dbugley\n",
      "keithos\n",
      "DorothyNed\n",
      "IEbusiness\n",
      "BLCKisthenewGRN\n",
      "jczraiby\n",
      "virjog\n",
      "thebeercolonel\n",
      "realSocializer\n",
      "DTNS_Subreddit\n",
      "thebitterstweet\n",
      "PeacefulChris\n",
      "contractme\n",
      "LeagueGM\n",
      "DnBUS\n",
      "DroneToFollow\n",
      "mhess4\n",
      "KCasimer\n",
      "Wellsome_Health\n",
      "krMousa\n",
      "BigIdeaWeek\n",
      "workofsociety\n",
      "AMajestyFreeMan\n",
      "SanjeevGiri\n",
      "divinglifespain\n",
      "softsurv\n",
      "SaraMichelley\n",
      "AaronFreitag\n",
      "nnessRit\n",
      "KFoleyConsult\n",
      "dsgold\n",
      "IITStuart\n",
      "rjnashburnva\n",
      "MullersAngels2\n",
      "rkbnyc\n",
      "ericupmeyer\n",
      "hwickline\n",
      "NathanBliemert\n",
      "atelier_senger\n",
      "KeywordsRes\n",
      "aliciafiasco\n",
      "MBAworldtrophy\n",
      "SeagoatNH\n",
      "BrendaArmster\n",
      "DailyEntrepTips\n",
      "ECommerceTNews\n",
      "davidcasalini\n",
      "FormaUKCompany\n",
      "mollieharig\n",
      "signyournname\n",
      "jonesthescribe\n",
      "ashthek\n",
      "Teamclosr\n",
      "b10bgames\n",
      "womensbusinessa\n",
      "SocialLeslie\n",
      "motorbikematt\n",
      "connectsomedots\n",
      "BlkSwrd\n",
      "CatapultChi\n",
      "webdiva3000\n",
      "iQDesk_net\n",
      "BuzzWiki\n",
      "J__Buchelly\n",
      "IAmBaconator\n",
      "iAM_VASwift\n",
      "roboreditt\n",
      "LuvNSoulN\n",
      "ESTnyc\n",
      "RowinDincht\n",
      "BrianTaylorhere\n",
      "k_elsuave\n",
      "ClearwaterMrs\n",
      "hollysharpe\n",
      "mainemoosetrax\n",
      "imndwivedi\n",
      "kuyimobile\n",
      "netvideo\n",
      "billblevins\n",
      "druzin_journo\n",
      "BrianDShields\n",
      "CatlateralDMG\n",
      "ProllyJohnny\n",
      "SOTGC\n",
      "Games_Learning\n",
      "barryleedham\n",
      "BielsDM\n",
      "KyleAlspach\n",
      "bhanu4startups\n",
      "SirGryphon\n",
      "SMGI_NoVA\n",
      "WebAdMetrics\n",
      "nicoledaddona\n",
      "ferreira_willl\n",
      "Crowdfund_Rob\n",
      "NewGenAngels\n",
      "Cureatr\n",
      "lizbrownsays\n",
      "Mo_WeTalk\n",
      "anewlaugh\n",
      "auburnsocial\n",
      "bothkindsradio\n",
      "MLSexton\n",
      "HorrorTalk\n",
      "ValMWalton\n",
      "kent97lau\n",
      "DClark_World\n",
      "feophotofactory\n",
      "guysunderwear\n",
      "courtneymason23\n",
      "woojinrad\n",
      "cyberkoza\n",
      "WebsiteStartup1\n",
      "JojoMaristela\n",
      "shoesncupcakess\n",
      "AnelloGrande\n",
      "cargoweasel\n",
      "lovethetvshow\n",
      "MinettaMedia\n",
      "bellwethergames\n",
      "PNE_Lee\n",
      "AdvertKase\n",
      "nicolerandazzo\n",
      "heidi_toth\n",
      "ClearFit\n",
      "marketest\n",
      "darryljmaxwell\n",
      "yunamon\n",
      "hairbychriso\n",
      "IncredibleSuit\n",
      "shivendrasingh\n",
      "roshieegurl\n",
      "N3jessica\n",
      "mfishbein\n",
      "JordanKai_Esq\n",
      "SSAChamber\n",
      "FcoMontanyes\n",
      "thewatermouth\n",
      "davidbgonzalez\n",
      "SomeDroidCom\n",
      "cuffwearables\n",
      "staceyvnext\n",
      "FoolishBambino\n",
      "Druthersco\n",
      "bart\n",
      "BoddieEstates\n",
      "damsonaudio\n",
      "yoBuister\n",
      "djtrans\n",
      "sergilarripa\n",
      "SillySG85\n",
      "ssansasnark\n",
      "crookedwoman83\n",
      "RichardvDelft\n",
      "TonyMarchesini\n",
      "SteveStupendous\n",
      "whiteharewitch\n",
      "HillaryQuirk\n",
      "rudibest\n",
      "ArhausFurniture\n",
      "steveptodd\n",
      "TheJobbook\n",
      "npandit\n",
      "sledgeweb\n",
      "ElliottWilson\n",
      "marwahaha\n",
      "GeneHoyle\n",
      "zooeysuff\n",
      "iPersonalBrand\n",
      "infografix\n",
      "vexxxiang\n",
      "EricaCiporen\n",
      "jlichman\n",
      "apintux\n",
      "makatha\n",
      "usammon\n",
      "techvibes\n",
      "ChrissAshkar\n",
      "SuB8u\n",
      "kittykaraoke\n",
      "AbacusPay\n",
      "David_E_G1\n",
      "WeAreRoco\n",
      "lanternwick\n",
      "BIDcultura\n",
      "OpenAxel\n",
      "FutureDRobinson\n",
      "ActuatorInc\n",
      "DailyBubba\n",
      "douglascmann\n",
      "mraqkhan\n",
      "3DTotal\n",
      "10kcoffees\n",
      "Dani_Booth\n",
      "BenjiKRogers\n",
      "SMGI_NY\n",
      "KiDynamic\n",
      "EatWeb\n",
      "scottiewestlake\n",
      "SpecGravity\n",
      "makesouthsea\n",
      "michaelchasen\n",
      "itsmomonow\n",
      "JeffreySOwens\n",
      "Dries\n",
      "bSafeSilje\n",
      "hichamchraibi\n",
      "Snickerman1991\n",
      "satsandsirens\n",
      "MelleKoot\n",
      "beziergames\n",
      "MattMacQuarrie\n",
      "how_to_web\n",
      "LasAngelesTimes\n",
      "daniel_grad\n",
      "theworddepot\n",
      "hansberrydoc\n",
      "ewH\n",
      "rreppert\n",
      "emmastory\n",
      "Renerd\n",
      "Fight4Library\n",
      "FreddysBar1\n",
      "SoldOutFCC\n",
      "gtomkins50\n",
      "wellSpeaks\n",
      "PhillEvans\n",
      "Ausbiznet\n",
      "GangasCon\n",
      "StartupEco\n",
      "TheGenesisPrize\n",
      "LauriesVoice\n",
      "bracecricket\n",
      "lordmooch\n",
      "Onitael79\n",
      "WycombeExpo\n",
      "JewishMovement\n",
      "mattkylemassey\n",
      "ShaiShanell\n",
      "EuroGamerGirl\n",
      "Talktorami\n",
      "velocityperform\n",
      "NOWCastSA\n",
      "mariaveletas\n",
      "moshxlord\n",
      "founderdating\n",
      "FabLabLondon\n",
      "haroonandme\n",
      "mohloboloko\n",
      "colorado_it\n",
      "smoothdiamondz\n",
      "MrSamuelFrench\n",
      "gytanzo\n",
      "EverythingLidia\n",
      "OlasAzul\n",
      "BialekSharon\n",
      "Alex8631\n",
      "SoMeNetMrkt\n",
      "currancreative\n",
      "mukeshbubna\n",
      "Henry_Potts\n",
      "StartupBlink\n",
      "mike_daws\n",
      "MichelleCim\n",
      "TerrafyNews\n",
      "cgordonh\n",
      "standaloneSA\n",
      "SamNasrawi\n",
      "ephemeragrrl\n",
      "JaredOldham\n",
      "SeanKolenko\n",
      "sjfriar\n",
      "larissaarcher\n",
      "ContractingPLUS\n",
      "lucytrezoz\n",
      "BizWizKevin\n",
      "LeanInOrg\n",
      "nickpauljordan\n",
      "mulatto23\n",
      "kfoleysharp\n",
      "seayen\n",
      "notquitereal\n",
      "yashaswinisp\n",
      "ImpactHubPhilly\n",
      "Kegottsleben\n",
      "Metropoli10z\n",
      "cultofkwan\n",
      "C_and_E\n",
      "ishafe\n",
      "enTREEpreneurz\n",
      "nika_urbas\n",
      "Lauraaakinss\n",
      "JobsinRichmond1\n",
      "gwillhite\n",
      "jopegowubewe\n",
      "moovgetranslate\n",
      "Under30CEOla\n",
      "KyonaMcGhee\n",
      "Under30CEOchi\n",
      "Eru_Rouraito\n",
      "kapilk\n",
      "BMTremblay\n",
      "drtune\n",
      "danieldrepper\n",
      "Bathtub_Reader\n",
      "RiToRock\n",
      "ScottABachmann\n",
      "kjones4223\n",
      "ShmediaMedia\n",
      "iStartorg\n",
      "kMarthPub\n",
      "HazmatHype\n",
      "ingridcoulon\n",
      "erin719nyc\n",
      "chatsubo\n",
      "mattpanayides\n",
      "NYUAlumni\n",
      "RedditEntre\n",
      "Ozarks_Jess\n",
      "twinsprite\n",
      "BernieBrenner\n",
      "AnthonyFrasier\n",
      "FoundersGrid\n",
      "andrewstuart81\n",
      "Chachimitsu\n",
      "TerriLeeedit\n",
      "RizeAlliance\n",
      "qualicumtoyshop\n",
      "JackieMJensen\n",
      "Am_Chaos\n",
      "angusloten\n",
      "Under30CEOsd\n",
      "Mahdi_Ghulam\n",
      "akintundedisu\n",
      "RubyTuesdayDONO\n",
      "TVandeGinste\n",
      "CatharsisSchool\n",
      "ZeeziesAnimals\n",
      "moteknyc\n",
      "ToeTagRiot\n",
      "AnthonyLent\n",
      "Miss_Tyeshia\n",
      "ChadwickHalse\n",
      "MonadnockLocal\n",
      "Spaetschichtalk\n",
      "Chuck_Suffel\n",
      "erictortiz\n",
      "InteriorsCarly\n",
      "Sachmare\n",
      "drjanet\n",
      "ArasDance\n",
      "DidierZeidel\n",
      "StartupsNews6\n",
      "Sending_Signals\n",
      "betswan\n",
      "PaulRobinsonPR\n",
      "Chris_VanMeter\n",
      "toddrramsey\n",
      "BernardWhitman\n",
      "laurenflax\n",
      "64ozGames\n",
      "TerrieJohnson53\n",
      "BrettRosinRMN\n",
      "Biz_WomenRock\n",
      "EZBZDallas\n",
      "markwiacek\n",
      "Veronica821991\n",
      "GuiltyBit\n",
      "TeamValiants\n",
      "FreeZoneConnect\n",
      "greggundel\n",
      "farnorthdistric\n",
      "hrfalconsyouth\n",
      "bestnatesmith\n",
      "crowdfundtalk\n",
      "JanhilM\n",
      "Akbaralaziz\n",
      "madlemmingz\n",
      "Badmoviepolice\n",
      "heartlandmobile\n",
      "Cabume\n",
      "peterjmsimons\n",
      "kaptainwoolsey\n",
      "dezmelfi\n",
      "llianHel\n",
      "BoardgameCorner\n",
      "terezinhapedro1\n",
      "womzilla\n",
      "afreck\n",
      "NathanPavelka\n",
      "ModernHatch\n",
      "AEUoffice\n",
      "SuperstarPM\n",
      "hansenjisu\n",
      "amndw2\n",
      "LaurenMuskett\n",
      "PanicPolkadots\n",
      "GothamJungle\n",
      "Huddle_son\n",
      "FCCleveland\n"
     ]
    }
   ],
   "source": [
    "dropTargetedUnfollowers(cur_fol, 1, False)"
   ]
  },
  {
   "cell_type": "code",
   "execution_count": 9,
   "metadata": {
    "collapsed": false
   },
   "outputs": [
    {
     "data": {
      "text/plain": [
       "datetime.date(2014, 6, 16)"
      ]
     },
     "execution_count": 9,
     "metadata": {},
     "output_type": "execute_result"
    }
   ],
   "source": [
    "comparison_date"
   ]
  },
  {
   "cell_type": "code",
   "execution_count": 18,
   "metadata": {
    "collapsed": false
   },
   "outputs": [],
   "source": [
    "comparison_date_targets = con.execute('SELECT user_name FROM incentive_actions WHERE action_datetime < ?', [comparison_date.strftime('%Y-%m-%d')])"
   ]
  },
  {
   "cell_type": "code",
   "execution_count": 19,
   "metadata": {
    "collapsed": false
   },
   "outputs": [],
   "source": [
    "comparison_date_list = []\n",
    "for target in comparison_date_targets:\n",
    "    comparison_date_list.append(target[0])"
   ]
  },
  {
   "cell_type": "code",
   "execution_count": 20,
   "metadata": {
    "collapsed": false
   },
   "outputs": [
    {
     "data": {
      "text/plain": [
       "1453"
      ]
     },
     "execution_count": 20,
     "metadata": {},
     "output_type": "execute_result"
    }
   ],
   "source": [
    "len(comparison_date_list)"
   ]
  },
  {
   "cell_type": "code",
   "execution_count": 21,
   "metadata": {
    "collapsed": false
   },
   "outputs": [],
   "source": [
    "cf = set(cur_fol)"
   ]
  },
  {
   "cell_type": "code",
   "execution_count": 22,
   "metadata": {
    "collapsed": false
   },
   "outputs": [
    {
     "data": {
      "text/plain": [
       "153"
      ]
     },
     "execution_count": 22,
     "metadata": {},
     "output_type": "execute_result"
    }
   ],
   "source": [
    "len(cf)"
   ]
  },
  {
   "cell_type": "code",
   "execution_count": 23,
   "metadata": {
    "collapsed": false
   },
   "outputs": [],
   "source": [
    "comparison_date_set = set(comparison_date_list)"
   ]
  },
  {
   "cell_type": "code",
   "execution_count": 24,
   "metadata": {
    "collapsed": false
   },
   "outputs": [
    {
     "data": {
      "text/plain": [
       "1411"
      ]
     },
     "execution_count": 24,
     "metadata": {},
     "output_type": "execute_result"
    }
   ],
   "source": [
    "len(comparison_date_set)"
   ]
  },
  {
   "cell_type": "code",
   "execution_count": 25,
   "metadata": {
    "collapsed": false
   },
   "outputs": [],
   "source": [
    "unfollowers = comparison_date_set.difference(cf)"
   ]
  },
  {
   "cell_type": "code",
   "execution_count": 26,
   "metadata": {
    "collapsed": false
   },
   "outputs": [
    {
     "data": {
      "text/plain": [
       "1361"
      ]
     },
     "execution_count": 26,
     "metadata": {},
     "output_type": "execute_result"
    }
   ],
   "source": [
    "len(unfollowers)"
   ]
  },
  {
   "cell_type": "code",
   "execution_count": 31,
   "metadata": {
    "collapsed": false
   },
   "outputs": [
    {
     "name": "stdout",
     "output_type": "stream",
     "text": [
      "1361 are set to be deleted. Their screen_names are:\n"
     ]
    }
   ],
   "source": [
    "print str(len(unfollowers)) + ' are set to be deleted. Their screen_names are:'"
   ]
  },
  {
   "cell_type": "code",
   "execution_count": 3,
   "metadata": {
    "collapsed": false
   },
   "outputs": [],
   "source": [
    "con.execute('ALTER TABLE incentive_actions ADD keyword TEXT AFTER action')\n",
    "con.commit()"
   ]
  },
  {
   "cell_type": "code",
   "execution_count": null,
   "metadata": {
    "collapsed": false
   },
   "outputs": [],
   "source": [
    "for i in con.execute('select * from incentive_actions limit 20'):\n",
    "    print i"
   ]
  }
 ],
 "metadata": {
  "anaconda-cloud": {},
  "kernelspec": {
   "display_name": "Python [default]",
   "language": "python",
   "name": "python3"
  },
  "language_info": {
   "codemirror_mode": {
    "name": "ipython",
    "version": 3
   },
   "file_extension": ".py",
   "mimetype": "text/x-python",
   "name": "python",
   "nbconvert_exporter": "python",
   "pygments_lexer": "ipython3",
   "version": "3.5.2"
  }
 },
 "nbformat": 4,
 "nbformat_minor": 0
}
